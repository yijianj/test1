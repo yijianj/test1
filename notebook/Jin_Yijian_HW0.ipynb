{
 "cells": [
  {
   "cell_type": "markdown",
   "id": "5b9ac276-ebdf-419f-b79a-3442d7f5ff8d",
   "metadata": {},
   "source": [
    "#### Name: Yijian Jin \n",
    "#### Github Username: yijianj\n",
    "#### USC ID: 8504581909"
   ]
  },
  {
   "cell_type": "markdown",
   "id": "8cf8dbcb-57d9-4c99-a967-db2aaa36afb0",
   "metadata": {},
   "source": [
    "## Q4"
   ]
  },
  {
   "cell_type": "markdown",
   "id": "0984b5fe-827d-4d08-9bf7-0ea278c66f62",
   "metadata": {},
   "source": [
    "### a)"
   ]
  },
  {
   "cell_type": "code",
   "execution_count": null,
   "id": "8d2e1d9e-6b9a-4ab8-8f7d-b83e960bd4fa",
   "metadata": {},
   "outputs": [],
   "source": [
    "import pandas as pd"
   ]
  },
  {
   "cell_type": "markdown",
   "id": "54a3c24e-a4c5-4c1a-82c7-1978065aaf25",
   "metadata": {},
   "source": [
    "### b)"
   ]
  },
  {
   "cell_type": "code",
   "execution_count": null,
   "id": "46cdc7fc-d178-43bd-b1fc-52c14912a485",
   "metadata": {},
   "outputs": [],
   "source": [
    "salaries = pd.read_csv(\"../data/Salaries.csv\")\n",
    "print(salaries)"
   ]
  },
  {
   "cell_type": "markdown",
   "id": "9bfd4867-0b65-4a36-afda-3994541b7285",
   "metadata": {},
   "source": [
    "### c)"
   ]
  },
  {
   "cell_type": "code",
   "execution_count": null,
   "id": "0a014a40-669b-4278-bfb3-c718fd88da89",
   "metadata": {},
   "outputs": [],
   "source": [
    "salaries = pd.read_csv(\"../data/Salaries.csv\", header=0, skiprows=[1])\n",
    "salaries.set_index(\"playerID\", inplace=True)\n",
    "salaries.head()"
   ]
  },
  {
   "cell_type": "markdown",
   "id": "c416ec4d-f6d6-4d36-b0b2-e564abd52a58",
   "metadata": {},
   "source": [
    "### d)"
   ]
  },
  {
   "cell_type": "code",
   "execution_count": null,
   "id": "679735f3-6de5-4890-bf26-2c2b37818ddc",
   "metadata": {},
   "outputs": [],
   "source": [
    "high_earning = salaries[(salaries[\"teamID\"] == (\"ATL\" or \"HOU\")) & (salaries[\"salary\"] > 1000000)].index.tolist()\n",
    "high_earning[:5]"
   ]
  },
  {
   "cell_type": "markdown",
   "id": "028c1f55-596d-4ade-b41c-8512ec10762b",
   "metadata": {},
   "source": [
    "### e)"
   ]
  },
  {
   "cell_type": "code",
   "execution_count": null,
   "id": "d70a7e6f-2032-410f-b784-eaff63d65df6",
   "metadata": {},
   "outputs": [],
   "source": [
    "atl_stats = salaries[salaries[\"teamID\"] == \"ATL\"][\"salary\"].describe()\n",
    "print(atl_stats)"
   ]
  },
  {
   "cell_type": "markdown",
   "id": "f46980eb-cfda-45b8-b19d-6874103f617f",
   "metadata": {},
   "source": [
    "Standard Deviation: 3,434,320\n",
    "First Quartile: 300,000\n",
    "Median: 600,000\n",
    "Third Quartile: 2,400,000\n",
    "Mean: 2,207,749\n",
    "Maximum: 16,061,800\n",
    "Minimum: 60,000"
   ]
  },
  {
   "cell_type": "markdown",
   "id": "117fa09d-4626-4bb0-b1c6-df9e532a7599",
   "metadata": {},
   "source": [
    "### f)"
   ]
  },
  {
   "cell_type": "code",
   "execution_count": null,
   "id": "67073606-a23c-475c-abb2-1d72867afc7d",
   "metadata": {},
   "outputs": [],
   "source": [
    "# using iterrows() methood\n",
    "salary_dict = {col: [] for col in salaries.columns}\n",
    "\n",
    "for _,players in salaries.iterrows():\n",
    "    for keys in salary_dict.keys():\n",
    "        salary_dict[keys].append(players[keys])\n",
    "\n",
    "print({keys: players[:5] for keys, players in salary_dict.items()})\n",
    "\n",
    "# using to_dict() method\n",
    "salary_dict_2 = salaries.to_dict(orient=\"list\")\n",
    "print({keys: players[:5] for keys, players in salary_dict_2.items()})"
   ]
  },
  {
   "cell_type": "markdown",
   "id": "8215979f-4288-4616-8696-e4b93ec24f91",
   "metadata": {},
   "source": [
    "### g)"
   ]
  },
  {
   "cell_type": "code",
   "execution_count": null,
   "id": "5d386d1e-52bc-4d68-888a-983cd7a1ffc2",
   "metadata": {},
   "outputs": [],
   "source": [
    "atl_stats_df = pd.DataFrame(atl_stats).transpose()\n",
    "new_headers = {col: chr(97 + idx) for idx, col in enumerate(atl_stats_df.columns)}\n",
    "atl_stats_df.rename(columns=new_headers, inplace=True)\n",
    "print(atl_stats_df)"
   ]
  },
  {
   "cell_type": "markdown",
   "id": "ce4bbb7e-0eb8-494d-8d3d-fca55fd22ffb",
   "metadata": {},
   "source": [
    "## Q5"
   ]
  },
  {
   "cell_type": "markdown",
   "id": "34fd6516-7a74-461e-8217-890f77515a59",
   "metadata": {},
   "source": [
    "### a)."
   ]
  },
  {
   "cell_type": "code",
   "execution_count": null,
   "id": "317ab7cd-e4fa-459a-9575-cde3d99c71a2",
   "metadata": {},
   "outputs": [],
   "source": [
    "import numpy as np"
   ]
  },
  {
   "cell_type": "code",
   "execution_count": null,
   "id": "96eccf5a-a4ac-44f2-a2c0-c66c91f93bd7",
   "metadata": {},
   "outputs": [],
   "source": [
    "pylist_obj = [\n",
    "    [11,22,33],\n",
    "    [44,55,66],\n",
    "    [77,88,99]\n",
    "]\n",
    "\n",
    "nmpy_array = np.array(pylist_obj)\n",
    "nmpy_array"
   ]
  },
  {
   "cell_type": "markdown",
   "id": "5dda6eda-3429-413c-a183-ed12b80edac2",
   "metadata": {},
   "source": [
    "### b)."
   ]
  },
  {
   "cell_type": "code",
   "execution_count": null,
   "id": "cf25f018-29c5-478a-ade1-ed4c16a28f1f",
   "metadata": {},
   "outputs": [],
   "source": [
    "print(\"ndim:\", nmpy_array.ndim)\n",
    "print(\"shape:\",nmpy_array.shape)\n",
    "print(\"dtype:\",nmpy_array.dtype)\n",
    "print(\"itemsize:\",nmpy_array.itemsize)\n",
    "print(\"nbytes:\",nmpy_array.nbytes)\n",
    "print(\"Transposed version:\",nmpy_array.T)"
   ]
  },
  {
   "cell_type": "markdown",
   "id": "af26ef8e-234b-4210-860c-f4d6cb903a32",
   "metadata": {},
   "source": [
    "### c)."
   ]
  },
  {
   "cell_type": "code",
   "execution_count": null,
   "id": "7574f723-1730-412c-86a7-cfeb571652f4",
   "metadata": {},
   "outputs": [],
   "source": [
    "print(nmpy_array.reshape(9,1))\n",
    "print(nmpy_array.flatten())"
   ]
  },
  {
   "cell_type": "markdown",
   "id": "d186688f-e40a-4650-b37c-21c1ad75e614",
   "metadata": {},
   "source": [
    "### d)."
   ]
  },
  {
   "cell_type": "code",
   "execution_count": null,
   "id": "9ab26158-9e91-4fa6-a4cd-b9445803af11",
   "metadata": {},
   "outputs": [],
   "source": [
    "# slice operation on 2-D array\n",
    "nmpy_array[1:3, :]\n",
    "nmpy_array[::2, ::2]\n",
    "\n",
    "# slice operation on 1-D array\n",
    "array_1d = nmpy_array.flatten()\n",
    "array_1d[:5]\n",
    "array_1d[::3]\n",
    "array_1d[2:7]"
   ]
  },
  {
   "cell_type": "markdown",
   "id": "8f47dbd3-5ef7-4516-9ae6-fbee86b22513",
   "metadata": {},
   "source": [
    "### e)."
   ]
  },
  {
   "cell_type": "code",
   "execution_count": null,
   "id": "45b43270-c4d3-4fa5-8534-8ed7635e92a9",
   "metadata": {},
   "outputs": [],
   "source": [
    "nmpy_array.argmin()\n",
    "nmpy_array.argmax()\n",
    "nmpy_array.min()\n",
    "nmpy_array.max()\n",
    "nmpy_array.mean()\n",
    "nmpy_array.sum()\n",
    "nmpy_array.std()\n",
    "nmpy_array.dot(nmpy_array.T)\n",
    "np.square(nmpy_array)\n",
    "np.sqrt(nmpy_array)\n",
    "np.abs(nmpy_array)\n",
    "np.exp(nmpy_array)\n",
    "np.sign(nmpy_array)\n",
    "np.mod(nmpy_array, 2)"
   ]
  },
  {
   "cell_type": "markdown",
   "id": "d21dc7fd-2dd7-4ae9-8dfc-7f023ad9b253",
   "metadata": {},
   "source": [
    "### f)."
   ]
  },
  {
   "cell_type": "code",
   "execution_count": null,
   "id": "bcad8498-be78-43d3-9d6c-7903195b2847",
   "metadata": {},
   "outputs": [],
   "source": [
    "np.arange(1,20,3)\n",
    "np.ones((3,6,2))\n",
    "np.zeros((3,6,2))\n",
    "np.eye(5)\n",
    "np.linspace(0,5,6)"
   ]
  },
  {
   "cell_type": "markdown",
   "id": "8363e845-e971-449b-b87d-a15713ff462a",
   "metadata": {},
   "source": [
    "## Q8"
   ]
  },
  {
   "cell_type": "markdown",
   "id": "e5df476b-e27f-4566-98a1-9bba7843e7e7",
   "metadata": {},
   "source": [
    "### a)."
   ]
  },
  {
   "cell_type": "code",
   "execution_count": null,
   "id": "4c4ff26c-4beb-48ec-98ef-a2b1609cd13b",
   "metadata": {},
   "outputs": [],
   "source": [
    "import matplotlib.pyplot as plt"
   ]
  },
  {
   "cell_type": "code",
   "execution_count": null,
   "id": "5376e75b-38b1-4a3a-aaa0-7057570b0935",
   "metadata": {},
   "outputs": [],
   "source": [
    "x = np.linspace(1,5,100)\n",
    "y = 1/x\n",
    "plt.plot(x, y, label=\"y = 1/x\")\n",
    "plt.title(\"Plot of y = 1/x\")\n",
    "plt.xlabel(\"x\")\n",
    "plt.ylabel(\"y\")\n",
    "plt.grid(True)\n",
    "plt.show()"
   ]
  },
  {
   "cell_type": "markdown",
   "id": "0752552d-7ac0-43b4-bd0d-d890a573f397",
   "metadata": {},
   "source": [
    "### b)."
   ]
  },
  {
   "cell_type": "code",
   "execution_count": null,
   "id": "9b08e667-b248-46d0-931b-57eade902e29",
   "metadata": {},
   "outputs": [],
   "source": [
    "y2 = np.sin(x)\n",
    "y3 = np.cos(x)\n",
    "y4 = np.sqrt(x)\n",
    "plt.plot(x, y2, label=r\"$y = \\sin(x)$\", linestyle='-', color='blue')\n",
    "plt.plot(x, y3, label=r\"$y = \\cos(x)$\", linestyle='--', color='green')\n",
    "plt.plot(x, y4, label=r\"$y = \\sqrt{x}$\", linestyle=':', color='red')\n",
    "plt.title(\"Mathmatical Functions\")\n",
    "plt.xlabel(\"x\")\n",
    "plt.ylabel(\"y\")\n",
    "plt.grid(True)\n",
    "plt.legend()\n",
    "plt.text(3, 0.5, r\"$y = \\sin(x)$\", color='blue')\n",
    "plt.text(2, 0, r\"$y = \\cos(x)$\", color='green')\n",
    "plt.text(3, 2, r\"$y = \\sqrt{x}$\", color='red')\n",
    "plt.show()"
   ]
  },
  {
   "cell_type": "markdown",
   "id": "a8cd079d-a4d4-4ec9-8c3d-d5db19280d0a",
   "metadata": {},
   "source": [
    "### c)."
   ]
  },
  {
   "cell_type": "code",
   "execution_count": null,
   "id": "de8d1ce0-f859-4f25-9f11-8089302b794f",
   "metadata": {},
   "outputs": [],
   "source": [
    "plt.subplot(2, 2, 1)\n",
    "plt.plot(x, y, color=\"blue\", label=r\"$y = 1/x$\")\n",
    "plt.xlabel(\"x\", fontsize=12)\n",
    "plt.ylabel(\"y\", fontsize=12)\n",
    "plt.grid(True)\n",
    "plt.legend(fontsize=10)\n",
    "\n",
    "plt.subplot(2, 2, 2)\n",
    "plt.plot(x, y2, color=\"green\", label=r\"$y = \\sin(x)$\")\n",
    "plt.xlabel(\"x\", fontsize=12)\n",
    "plt.ylabel(\"y\", fontsize=12)\n",
    "plt.grid(True)\n",
    "plt.legend(fontsize=10)\n",
    "\n",
    "plt.subplot(2, 2, 3)\n",
    "plt.plot(x, y3, color=\"red\", label=r\"$y = \\cos(x)$\")\n",
    "plt.xlabel(\"x\", fontsize=12)\n",
    "plt.ylabel(\"y\", fontsize=12)\n",
    "plt.grid(True)\n",
    "plt.legend(fontsize=10)\n",
    "\n",
    "plt.subplot(2, 2, 4)\n",
    "plt.plot(x, y4, color=\"purple\", label=r\"$y = \\sqrt{x}$\")\n",
    "plt.xlabel(\"x\", fontsize=12)\n",
    "plt.ylabel(\"y\", fontsize=12)\n",
    "plt.grid(True)\n",
    "plt.legend(fontsize=10)\n",
    "\n",
    "plt.tight_layout()\n",
    "plt.show()"
   ]
  },
  {
   "cell_type": "code",
   "execution_count": null,
   "id": "55624cff-170a-4d25-83f9-1a7557e3e085",
   "metadata": {},
   "outputs": [],
   "source": [
    "plt.plot(x, y, label=r\"$y = 1/x$\")\n",
    "plt.title(\"gca\")\n",
    "plt.xlabel(\"x\")\n",
    "plt.ylabel(\"y\")\n",
    "plt.legend()\n",
    "plt.grid(True)\n",
    "plt.gca()"
   ]
  },
  {
   "cell_type": "code",
   "execution_count": null,
   "id": "864a0cf1-fd67-4498-a6ae-b4ab1b14cf4c",
   "metadata": {
    "scrolled": true
   },
   "outputs": [],
   "source": [
    "y_log = np.exp(x/10)\n",
    "plt.plot(x, y_log, label=r\"$y = e^{x/10}$\")\n",
    "plt.title(\"gca\")\n",
    "plt.xlabel(\"x\")\n",
    "plt.ylabel(\"y\")\n",
    "plt.legend()\n",
    "plt.grid(True)\n",
    "gca = plt.gca()\n",
    "gca.set_xscale('log')\n",
    "gca.set_yscale('log')\n",
    "gca.set_xlim(1, 5)\n",
    "gca.set_ylim(1, 2)\n",
    "plt.legend()\n",
    "plt.show()"
   ]
  },
  {
   "cell_type": "markdown",
   "id": "b1623a0d-d3db-4b64-8483-7225e0cdfb45",
   "metadata": {},
   "source": [
    "## Q9"
   ]
  },
  {
   "cell_type": "markdown",
   "id": "b1f81d90-0084-4f70-a9b3-42f0a32f1c9a",
   "metadata": {},
   "source": [
    "### a)."
   ]
  },
  {
   "cell_type": "code",
   "execution_count": null,
   "id": "cd4189f1-0edf-44a6-8bd4-a7e8bf0b2b59",
   "metadata": {},
   "outputs": [],
   "source": [
    "import seaborn as sb"
   ]
  },
  {
   "cell_type": "code",
   "execution_count": null,
   "id": "6222efdc-a8d1-46da-aab3-25bad54ae593",
   "metadata": {},
   "outputs": [],
   "source": [
    "sb.histplot(data=salaries, x=\"salary\", bins=50)\n",
    "plt.title(\"Distribution of Player Salaries\")\n",
    "plt.xlabel(\"Salary\")\n",
    "plt.ylabel(\"Frequency\")\n",
    "plt.show()"
   ]
  },
  {
   "cell_type": "markdown",
   "id": "bdd20c47-9b14-41e8-8499-2537e1146785",
   "metadata": {},
   "source": [
    "### b)."
   ]
  },
  {
   "cell_type": "code",
   "execution_count": null,
   "id": "c3fb8b60-3c1b-41d3-b1a9-48c8fa392c1b",
   "metadata": {},
   "outputs": [],
   "source": [
    "sb.lmplot(data=salaries, x=\"yearID\", y=\"salary\", aspect=2, scatter_kws={\"s\": 20, \"alpha\": 0.5}, line_kws={\"color\": \"red\"})\n",
    "plt.title(\"Linear Regression of Salary vs Year\")\n",
    "plt.xlabel(\"Year\")\n",
    "plt.ylabel(\"Salary\")\n",
    "plt.show()\n",
    "\n",
    "sb.catplot(data=salaries, x=\"teamID\", y=\"salary\", kind=\"box\", aspect=2)\n",
    "plt.title(\"Salary Distribution Across Teams\", fontsize=14)\n",
    "plt.xlabel(\"Team\")\n",
    "plt.ylabel(\"Salary\")\n",
    "plt.xticks(rotation=90)\n",
    "plt.show()\n",
    "\n",
    "sb.relplot(data=salaries, x=\"yearID\", y=\"salary\", hue=\"lgID\", kind=\"line\", aspect=2)\n",
    "plt.title(\"Salary Trends Over the Years by League\")\n",
    "plt.xlabel(\"Year\")\n",
    "plt.ylabel(\"Salary\")\n",
    "plt.show()"
   ]
  },
  {
   "cell_type": "markdown",
   "id": "ee4008df-ed6e-49ae-92cf-f4561f978375",
   "metadata": {},
   "source": [
    "### d)."
   ]
  },
  {
   "cell_type": "code",
   "execution_count": null,
   "id": "f66fd13f-60f1-4990-8972-2a0d8bde9a87",
   "metadata": {},
   "outputs": [],
   "source": [
    "sb.boxplot(data=salaries, x=\"lgID\", y=\"salary\")\n",
    "plt.show()"
   ]
  },
  {
   "cell_type": "markdown",
   "id": "b399718c-86db-4a92-a392-eaceec07cfb7",
   "metadata": {},
   "source": [
    "### e)."
   ]
  },
  {
   "cell_type": "code",
   "execution_count": null,
   "id": "1f53bd2d-40e9-4d08-9c3f-ca0c2ce541e6",
   "metadata": {},
   "outputs": [],
   "source": [
    "sb.pairplot(data=salaries, hue=\"lgID\", diag_kind=\"kde\")\n",
    "plt.show()"
   ]
  },
  {
   "cell_type": "code",
   "execution_count": null,
   "id": "82894e4b-131f-4175-929f-fcbc7c7e1c21",
   "metadata": {},
   "outputs": [],
   "source": [
    "sb.jointplot(data=salaries, x=\"yearID\", y=\"salary\", kind=\"kde\")\n",
    "plt.show()"
   ]
  }
 ],
 "metadata": {
  "kernelspec": {
   "display_name": "Python 3 (ipykernel)",
   "language": "python",
   "name": "python3"
  },
  "language_info": {
   "codemirror_mode": {
    "name": "ipython",
    "version": 3
   },
   "file_extension": ".py",
   "mimetype": "text/x-python",
   "name": "python",
   "nbconvert_exporter": "python",
   "pygments_lexer": "ipython3",
   "version": "3.12.7"
  }
 },
 "nbformat": 4,
 "nbformat_minor": 5
}
